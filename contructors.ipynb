{
 "cells": [
  {
   "cell_type": "markdown",
   "metadata": {},
   "source": [
    "<h1 style=\"text-align:center\"> Constructors"
   ]
  },
  {
   "cell_type": "code",
   "execution_count": null,
   "metadata": {},
   "outputs": [],
   "source": []
  },
  {
   "cell_type": "markdown",
   "metadata": {},
   "source": [
    "<b>Constructors are the special type of method which is used to initilize instance variables of a class."
   ]
  },
  {
   "cell_type": "markdown",
   "metadata": {},
   "source": [
    "<pre>Constructor name must be '__init__'."
   ]
  },
  {
   "cell_type": "markdown",
   "metadata": {},
   "source": [
    "To define a constructor we use <b> 'def' </b> keyword"
   ]
  },
  {
   "cell_type": "markdown",
   "metadata": {},
   "source": [
    "Constructor is called at a time of object creation."
   ]
  },
  {
   "cell_type": "markdown",
   "metadata": {},
   "source": [
    "Contructor is called one time for one object."
   ]
  },
  {
   "cell_type": "markdown",
   "metadata": {},
   "source": [
    "In python we can default and parameterized constructors."
   ]
  },
  {
   "cell_type": "markdown",
   "metadata": {},
   "source": [
    "The constructor will take   'self'   as a default parameter. "
   ]
  },
  {
   "cell_type": "code",
   "execution_count": null,
   "metadata": {},
   "outputs": [],
   "source": []
  },
  {
   "cell_type": "code",
   "execution_count": 10,
   "metadata": {
    "scrolled": true
   },
   "outputs": [
    {
     "name": "stdout",
     "output_type": "stream",
     "text": [
      "Awesome i am constructor guys!\n",
      "No need to call me!\n"
     ]
    },
    {
     "data": {
      "text/plain": [
       "<__main__.Just_Sample at 0x1fde27f5860>"
      ]
     },
     "execution_count": 10,
     "metadata": {},
     "output_type": "execute_result"
    }
   ],
   "source": [
    "class Just_Sample:\n",
    "    def __init__(self):\n",
    "        print(\"Awesome i am constructor guys!\")\n",
    "        print(\"No need to call me!\")\n",
    "        \n",
    "Just_Sample()"
   ]
  },
  {
   "cell_type": "code",
   "execution_count": 14,
   "metadata": {},
   "outputs": [
    {
     "name": "stdout",
     "output_type": "stream",
     "text": [
      "Awesome i am constructor guys!\n",
      "No need to call me!\n"
     ]
    }
   ],
   "source": [
    "class Just_Sample:\n",
    "    def __init__(self):\n",
    "        print(\"Awesome i am constructor guys!\")\n",
    "        print(\"No need to call me!\")\n",
    "        \n",
    "me_var = Just_Sample()"
   ]
  },
  {
   "cell_type": "code",
   "execution_count": null,
   "metadata": {},
   "outputs": [],
   "source": []
  },
  {
   "cell_type": "code",
   "execution_count": 8,
   "metadata": {},
   "outputs": [
    {
     "name": "stdout",
     "output_type": "stream",
     "text": [
      "I am inside Constructor!\n",
      "\n",
      "official tech\n",
      "10010101000010\n",
      "I am inside method!!\n"
     ]
    }
   ],
   "source": [
    "class Shadow:\n",
    "    \n",
    "    def __init__(self):\n",
    "        \n",
    "        self.name = 'official tech'\n",
    "        self.contact = 10010101000010\n",
    "        print(\"I am inside Constructor!\")\n",
    "        print()\n",
    "        \n",
    "    def show(self):\n",
    "        print(self.name)\n",
    "        print(self.contact)\n",
    "        print(\"I am inside method!!\")\n",
    "        \n",
    "o_var = Shadow()\n",
    "o_var.show()"
   ]
  },
  {
   "cell_type": "code",
   "execution_count": null,
   "metadata": {},
   "outputs": [],
   "source": []
  },
  {
   "cell_type": "code",
   "execution_count": 19,
   "metadata": {},
   "outputs": [
    {
     "name": "stdout",
     "output_type": "stream",
     "text": [
      "1010\n",
      "OT-JB\n"
     ]
    }
   ],
   "source": [
    "class In_dark:\n",
    "    def __init__(self, name, roll):\n",
    "        self.name = name\n",
    "        self.roll_no = roll\n",
    "        \n",
    "    def display(self):\n",
    "        print(self.roll_no)\n",
    "        print(self.name)\n",
    "        \n",
    "dark = In_dark(\"OT-JB\", 1010)\n",
    "dark.display()"
   ]
  }
 ],
 "metadata": {
  "kernelspec": {
   "display_name": "Python 3",
   "language": "python",
   "name": "python3"
  },
  "language_info": {
   "codemirror_mode": {
    "name": "ipython",
    "version": 3
   },
   "file_extension": ".py",
   "mimetype": "text/x-python",
   "name": "python",
   "nbconvert_exporter": "python",
   "pygments_lexer": "ipython3",
   "version": "3.7.1"
  }
 },
 "nbformat": 4,
 "nbformat_minor": 2
}
