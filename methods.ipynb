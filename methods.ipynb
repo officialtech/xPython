{
 "cells": [
  {
   "cell_type": "markdown",
   "metadata": {},
   "source": [
    "<h1 style=\"text-align: center\">METHODS"
   ]
  },
  {
   "cell_type": "markdown",
   "metadata": {},
   "source": [
    "method is a collection of statements which perform an operation."
   ]
  },
  {
   "cell_type": "markdown",
   "metadata": {},
   "source": [
    "the method which is defined once can call for multiple times."
   ]
  },
  {
   "cell_type": "markdown",
   "metadata": {},
   "source": [
    "to define a method we use \"def\" keyword. "
   ]
  },
  {
   "cell_type": "markdown",
   "metadata": {},
   "source": [
    "we define a method, inside a class."
   ]
  },
  {
   "cell_type": "markdown",
   "metadata": {},
   "source": [
    "in python, we have three types of methods."
   ]
  },
  {
   "cell_type": "markdown",
   "metadata": {},
   "source": [
    "1. STATIC method<br>\n",
    "2. CLASS method<br>\n",
    "3. INSTANCE method"
   ]
  },
  {
   "cell_type": "markdown",
   "metadata": {},
   "source": [
    "The above given three methods can be defined in four ways."
   ]
  },
  {
   "cell_type": "markdown",
   "metadata": {},
   "source": [
    "1. method without arguments and without return\n",
    "2. method with arguments and without return\n",
    "3. method without arguments and with return\n",
    "4. method with arguments and with return"
   ]
  },
  {
   "cell_type": "markdown",
   "metadata": {},
   "source": [
    "<h1 style=\"text-align: center\">STATIC METHOD"
   ]
  },
  {
   "cell_type": "markdown",
   "metadata": {},
   "source": [
    "static methods will perform operations on static variables."
   ]
  },
  {
   "cell_type": "markdown",
   "metadata": {},
   "source": [
    "to determine the static method we use '@staticmethod' decorator."
   ]
  },
  {
   "cell_type": "markdown",
   "metadata": {},
   "source": [
    "to call static method we use class name."
   ]
  },
  {
   "cell_type": "markdown",
   "metadata": {},
   "source": [
    "static methods will loads at class loading time."
   ]
  },
  {
   "cell_type": "code",
   "execution_count": 1,
   "metadata": {},
   "outputs": [
    {
     "name": "stdout",
     "output_type": "stream",
     "text": [
      "official tech Inc.\n",
      "10010101000010\n"
     ]
    }
   ],
   "source": [
    "class Employee:\n",
    "    c_name = \"official tech Inc.\"\n",
    "    c_contact = 10010101000010\n",
    "    \n",
    "    @staticmethod\n",
    "    def show():\n",
    "        print(Employee().c_name)\n",
    "        print(Employee().c_contact)\n",
    "        \n",
    "Employee().show()"
   ]
  },
  {
   "cell_type": "markdown",
   "metadata": {},
   "source": [
    "<h2 style=\"text-align:center\">OR"
   ]
  },
  {
   "cell_type": "code",
   "execution_count": 2,
   "metadata": {},
   "outputs": [
    {
     "name": "stdout",
     "output_type": "stream",
     "text": [
      "official tech Inc.\n",
      "10010101000010\n"
     ]
    }
   ],
   "source": [
    "class Employee:\n",
    "    c_name = \"official tech Inc.\"\n",
    "    c_contact = 10010101000010\n",
    "    \n",
    "    @staticmethod\n",
    "    def show():\n",
    "        print(Employee.c_name)\n",
    "        print(Employee.c_contact)\n",
    "        \n",
    "Employee.show()   # calling static method"
   ]
  },
  {
   "cell_type": "code",
   "execution_count": null,
   "metadata": {},
   "outputs": [],
   "source": []
  }
 ],
 "metadata": {
  "kernelspec": {
   "display_name": "Python 3",
   "language": "python",
   "name": "python3"
  },
  "language_info": {
   "codemirror_mode": {
    "name": "ipython",
    "version": 3
   },
   "file_extension": ".py",
   "mimetype": "text/x-python",
   "name": "python",
   "nbconvert_exporter": "python",
   "pygments_lexer": "ipython3",
   "version": "3.7.1"
  }
 },
 "nbformat": 4,
 "nbformat_minor": 2
}
