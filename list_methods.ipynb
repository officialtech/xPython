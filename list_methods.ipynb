{
 "cells": [
  {
   "cell_type": "markdown",
   "metadata": {},
   "source": [
    "<pre>Init signature: list(iterable=(), /)\n",
    "Docstring:     \n",
    "Built-in mutable sequence.\n",
    "\n",
    "If no argument is given, the constructor creates a new empty list.\n",
    "\n",
    "The argument must be an iterable if specified.</pre>"
   ]
  },
  {
   "cell_type": "markdown",
   "metadata": {},
   "source": [
    "# append()"
   ]
  },
  {
   "cell_type": "code",
   "execution_count": 5,
   "metadata": {},
   "outputs": [
    {
     "name": "stdout",
     "output_type": "stream",
     "text": [
      "before [1, 5, 3, 8, 9, 7, 2, 4]\n",
      "after [1, 5, 3, 8, 9, 7, 2, 4, 4]\n"
     ]
    }
   ],
   "source": [
    "\n",
    "l1 = [1, 5, 3, 8, 9, 7, 2, 4]\n",
    "print(\"before\", l1)\n",
    "\n",
    "l1.append(4)\n",
    "print(\"after\", l1)"
   ]
  },
  {
   "cell_type": "code",
   "execution_count": null,
   "metadata": {},
   "outputs": [],
   "source": []
  },
  {
   "cell_type": "markdown",
   "metadata": {},
   "source": [
    "# extend()"
   ]
  },
  {
   "cell_type": "code",
   "execution_count": 6,
   "metadata": {},
   "outputs": [
    {
     "name": "stdout",
     "output_type": "stream",
     "text": [
      "Before [10, 90, 20, 80, 30]\n",
      "After [10, 90, 20, 80, 30, 1, 5, 3, 8, 9, 7, 2, 4, 4]\n"
     ]
    }
   ],
   "source": [
    "l2 = [10, 90, 20, 80, 30]\n",
    "print(\"Before\", l2)\n",
    "\n",
    "l2.extend(l1)\n",
    "print(\"After\", l2)"
   ]
  },
  {
   "cell_type": "code",
   "execution_count": null,
   "metadata": {},
   "outputs": [],
   "source": []
  },
  {
   "cell_type": "markdown",
   "metadata": {},
   "source": [
    "# insert()"
   ]
  },
  {
   "cell_type": "code",
   "execution_count": 7,
   "metadata": {},
   "outputs": [
    {
     "name": "stdout",
     "output_type": "stream",
     "text": [
      "Before [11, 22, 33, 44, 55, 66]\n",
      "After [11, 22, 77, 33, 44, 55, 66]\n"
     ]
    }
   ],
   "source": [
    "l3 = [11, 22, 33, 44, 55, 66]\n",
    "print(\"Before\", l3)\n",
    "\n",
    "#l3.insert(index_position, object)\n",
    "\n",
    "l3.insert(2, 77)\n",
    "print(\"After\", l3)"
   ]
  },
  {
   "cell_type": "code",
   "execution_count": null,
   "metadata": {},
   "outputs": [],
   "source": []
  },
  {
   "cell_type": "markdown",
   "metadata": {},
   "source": [
    "# remove()"
   ]
  },
  {
   "cell_type": "code",
   "execution_count": 8,
   "metadata": {},
   "outputs": [
    {
     "name": "stdout",
     "output_type": "stream",
     "text": [
      "Before [9, 4, 4, 8, 0, 8, 1]\n",
      "After [9, 4, 4, 8, 0, 8]\n"
     ]
    }
   ],
   "source": [
    "l4 = [9, 4, 4, 8, 0, 8, 1]\n",
    "print(\"Before\", l4)\n",
    "\n",
    "l4.remove(1) # object\n",
    "print(\"After\", l4)"
   ]
  },
  {
   "cell_type": "code",
   "execution_count": null,
   "metadata": {},
   "outputs": [],
   "source": []
  },
  {
   "cell_type": "markdown",
   "metadata": {},
   "source": [
    "# pop()"
   ]
  },
  {
   "cell_type": "code",
   "execution_count": 9,
   "metadata": {},
   "outputs": [
    {
     "name": "stdout",
     "output_type": "stream",
     "text": [
      "Before [3, 4, 1001, 5, 6, 7, 8]\n",
      "After [3, 4, 5, 6, 7, 8]\n"
     ]
    }
   ],
   "source": [
    "l5 = [3, 4, 1001, 5, 6, 7, 8]\n",
    "print(\"Before\", l5)\n",
    "\n",
    "l5.pop(2) # index\n",
    "print(\"After\", l5)"
   ]
  },
  {
   "cell_type": "code",
   "execution_count": 10,
   "metadata": {},
   "outputs": [
    {
     "name": "stdout",
     "output_type": "stream",
     "text": [
      "Before [3, 4, 5, 6, 7, 8]\n",
      "After [3, 4, 5, 6, 7]\n"
     ]
    }
   ],
   "source": [
    "print(\"Before\", l5)\n",
    "l5.pop() # by default it will pop last object\n",
    "print(\"After\", l5)"
   ]
  },
  {
   "cell_type": "code",
   "execution_count": null,
   "metadata": {},
   "outputs": [],
   "source": []
  },
  {
   "cell_type": "markdown",
   "metadata": {},
   "source": [
    "# clear()"
   ]
  },
  {
   "cell_type": "code",
   "execution_count": 12,
   "metadata": {
    "scrolled": true
   },
   "outputs": [
    {
     "name": "stdout",
     "output_type": "stream",
     "text": [
      "Before [17, 19, 23, 29, 31, 37]\n",
      "After []\n"
     ]
    }
   ],
   "source": [
    "l6 = [17, 19, 23, 29, 31, 37]\n",
    "print(\"Before\", l6)\n",
    "l6.clear() # clear all objects from the list and print 'empty list'\n",
    "print(\"After\", l6)"
   ]
  },
  {
   "cell_type": "code",
   "execution_count": null,
   "metadata": {},
   "outputs": [],
   "source": []
  },
  {
   "cell_type": "markdown",
   "metadata": {},
   "source": [
    "# index()"
   ]
  },
  {
   "cell_type": "code",
   "execution_count": 15,
   "metadata": {},
   "outputs": [
    {
     "name": "stdout",
     "output_type": "stream",
     "text": [
      "Before- [171, 191, 231, 291, 311, 371]\n",
      "Index Position- 3\n"
     ]
    }
   ],
   "source": [
    "l7 = [171, 191, 231, 291, 311, 371]\n",
    "print(\"Before-\", l7)\n",
    "place = l7.index(291) # object\n",
    "print(\"Index Position-\", place)"
   ]
  },
  {
   "cell_type": "code",
   "execution_count": null,
   "metadata": {},
   "outputs": [],
   "source": []
  },
  {
   "cell_type": "markdown",
   "metadata": {},
   "source": [
    "# sort()"
   ]
  },
  {
   "cell_type": "code",
   "execution_count": 17,
   "metadata": {},
   "outputs": [
    {
     "name": "stdout",
     "output_type": "stream",
     "text": [
      "BEFORE:  [0, 23, 29, 31, 37, 17, 19, 231, 291, 1]\n",
      "AFTER:  [0, 1, 17, 19, 23, 29, 31, 37, 231, 291]\n"
     ]
    }
   ],
   "source": [
    "l8 = [0, 23, 29, 31, 37, 17, 19, 231, 291, 1]\n",
    "print(\"BEFORE: \", l8)\n",
    "\n",
    "l8.sort() # ascending order\n",
    "print(\"AFTER: \", l8)"
   ]
  },
  {
   "cell_type": "code",
   "execution_count": null,
   "metadata": {},
   "outputs": [],
   "source": []
  },
  {
   "cell_type": "markdown",
   "metadata": {},
   "source": [
    "# reverse()"
   ]
  },
  {
   "cell_type": "code",
   "execution_count": 18,
   "metadata": {},
   "outputs": [
    {
     "name": "stdout",
     "output_type": "stream",
     "text": [
      "Before--- [4, 5, 6, 7, 8, 15, 14, 19]\n",
      "After--- [19, 14, 15, 8, 7, 6, 5, 4]\n"
     ]
    }
   ],
   "source": [
    "l9 = [4, 5, 6, 7, 8, 15, 14, 19]\n",
    "print(\"Before---\", l9)\n",
    "\n",
    "l9.reverse()\n",
    "print(\"After---\", l9)"
   ]
  },
  {
   "cell_type": "code",
   "execution_count": null,
   "metadata": {},
   "outputs": [],
   "source": []
  },
  {
   "cell_type": "markdown",
   "metadata": {},
   "source": [
    "# copy() "
   ]
  },
  {
   "cell_type": "code",
   "execution_count": 20,
   "metadata": {},
   "outputs": [
    {
     "name": "stdout",
     "output_type": "stream",
     "text": [
      "Before [1, 11, 111, 1111, 0, 2]\n",
      "After [1, 11, 111, 1111, 0, 2]\n"
     ]
    }
   ],
   "source": [
    "# shallow copy\n",
    "\n",
    "l_10 = [1, 11, 111, 1111, 0, 2]\n",
    "print(\"Before\", l_10)\n",
    "\n",
    "new_copy = l_10.copy()\n",
    "print(\"After\", new_copy)"
   ]
  }
 ],
 "metadata": {
  "kernelspec": {
   "display_name": "Python 3",
   "language": "python",
   "name": "python3"
  },
  "language_info": {
   "codemirror_mode": {
    "name": "ipython",
    "version": 3
   },
   "file_extension": ".py",
   "mimetype": "text/x-python",
   "name": "python",
   "nbconvert_exporter": "python",
   "pygments_lexer": "ipython3",
   "version": "3.7.1"
  }
 },
 "nbformat": 4,
 "nbformat_minor": 2
}
